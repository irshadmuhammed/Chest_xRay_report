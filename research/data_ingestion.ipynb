{
 "cells": [
  {
   "cell_type": "code",
   "execution_count": 1,
   "id": "916e09ed",
   "metadata": {},
   "outputs": [],
   "source": [
    "import os\n",
    "import tarfile\n",
    "import requests\n",
    "import xml.etree.ElementTree as ET\n",
    "from Chest_Xray_Report import logger\n",
    "import pandas as pd\n",
    "\n"
   ]
  },
  {
   "cell_type": "code",
   "execution_count": 2,
   "id": "b833112f",
   "metadata": {},
   "outputs": [
    {
     "data": {
      "text/plain": [
       "'d:\\\\FInal_project\\\\Chest_xRay_report'"
      ]
     },
     "execution_count": 2,
     "metadata": {},
     "output_type": "execute_result"
    }
   ],
   "source": [
    "os.chdir(\"../\")\n",
    "%pwd"
   ]
  },
  {
   "cell_type": "code",
   "execution_count": 3,
   "id": "ed1762ae",
   "metadata": {},
   "outputs": [],
   "source": [
    "from dataclasses import dataclass\n",
    "from pathlib import Path\n",
    "\n",
    "@dataclass(frozen=True)\n",
    "class DataIngestionConfig:\n",
    "    root_dir: Path\n",
    "    image_URL: str\n",
    "    report_URL: str\n",
    "    image_data_file: Path\n",
    "    report_data_file: Path\n",
    "    unzip_dir_image: Path\n",
    "    unzip_dir_report: Path"
   ]
  },
  {
   "cell_type": "code",
   "execution_count": 4,
   "id": "bf4ba53d",
   "metadata": {},
   "outputs": [],
   "source": [
    "from Chest_Xray_Report.constants import *\n",
    "from Chest_Xray_Report.utils.common import read_yaml,create_directories\n",
    "\n",
    "class ConfigurationManager:\n",
    "    def __init__(\n",
    "            self,\n",
    "            config_file_path = CONFIG_FILE_PATH,\n",
    "            parms_file_path = PARAMS_FILE_PATH     \n",
    "            ):\n",
    "        self.config = read_yaml(config_file_path)\n",
    "        self.parms =  read_yaml(parms_file_path)\n",
    "\n",
    "        create_directories([self.config.artifacts_root])\n",
    "\n",
    "    \n",
    "    def get_data_ingestion_config(self) ->DataIngestionConfig:\n",
    "        config = self.config.data_ingestion\n",
    "\n",
    "        create_directories([config.root_dir])\n",
    "        data_ingestion_config = DataIngestionConfig(\n",
    "            root_dir=config.root_dir,\n",
    "            image_URL=config.image_URL,\n",
    "            report_URL=config.report_URL,\n",
    "            image_data_file=config.image_data_file,\n",
    "            report_data_file=config.report_data_file,\n",
    "            unzip_dir_image = config.unzip_dir_image,\n",
    "            unzip_dir_report = config.unzip_dir_report\n",
    "        )\n",
    "\n",
    "        return data_ingestion_config\n",
    "        \n",
    "        "
   ]
  },
  {
   "cell_type": "code",
   "execution_count": 5,
   "id": "9466193b",
   "metadata": {},
   "outputs": [],
   "source": [
    "def download_file(url, dest_path):\n",
    "    \"\"\"Download file from URL to dest_path if not already present.\"\"\"\n",
    "    if os.path.exists(dest_path):\n",
    "        logger.info(f\"File already exists: {dest_path}\")\n",
    "        print(f\"[INFO] File already exists: {dest_path}\")\n",
    "        return dest_path  # ✅ return even if exists\n",
    "\n",
    "    logger.info(f\"[INFO] Downloading from {url}...\")\n",
    "    response = requests.get(url, stream=True)\n",
    "    if response.status_code != 200:\n",
    "        raise Exception(f\"Failed to download {url} (status {response.status_code})\")\n",
    "\n",
    "    with open(dest_path, \"wb\") as f:\n",
    "        for chunk in response.iter_content(chunk_size=1024):\n",
    "            if chunk:\n",
    "                f.write(chunk)\n",
    "    logger.info(f\"[INFO] Saved: {dest_path}\")\n",
    "    return dest_path  # ✅ return file path\n"
   ]
  },
  {
   "cell_type": "code",
   "execution_count": 6,
   "id": "4e1b8814",
   "metadata": {},
   "outputs": [],
   "source": [
    "def extract_tgz(tgz_path, extract_to):\n",
    "    if not os.path.exists(tgz_path):\n",
    "        raise FileNotFoundError(f\"File not found: {tgz_path}\")\n",
    "    if os.path.getsize(tgz_path) == 0:\n",
    "        raise ValueError(f\"File is empty: {tgz_path}\")\n",
    "\n",
    "    print(f\"[INFO] Extracting {tgz_path}...\")\n",
    "    with tarfile.open(tgz_path, \"r:gz\") as tar:\n",
    "        tar.extractall(path=extract_to)\n",
    "    print(f\"[INFO] Extracted to {extract_to}\")\n"
   ]
  },
  {
   "cell_type": "code",
   "execution_count": 12,
   "id": "dbf017b5",
   "metadata": {},
   "outputs": [],
   "source": [
    "class DataIngestion:\n",
    "    def __init__(self,config:DataIngestionConfig):\n",
    "        self.config = config\n",
    "\n",
    "    def start_download_extract(self):\n",
    "        try:\n",
    "            data_image_url = self.config.image_URL\n",
    "            data_report_url = self.config.report_URL\n",
    "            image_dir_down = self.config.image_data_file\n",
    "            report_dir_down = self.config.report_data_file\n",
    "            unzip_dir_image = self.config.unzip_dir_image\n",
    "            unzip_dir_reports = self.config.unzip_dir_report\n",
    "\n",
    "            os.makedirs(\"artifacts/data_ingestion\", exist_ok=True)\n",
    "            os.makedirs(\"artifacts/data_ingestion/image\", exist_ok=True)\n",
    "            os.makedirs(\"artifacts/data_ingestion/report\", exist_ok=True)\n",
    "\n",
    "            logger.info(\"downloading the data\")\n",
    "\n",
    "            image_dir_down = download_file(data_image_url,image_dir_down)\n",
    "            report_dir_down = download_file(data_report_url,report_dir_down)\n",
    "\n",
    "            extract_tgz(image_dir_down, unzip_dir_image)\n",
    "            extract_tgz(report_dir_down, unzip_dir_reports)\n",
    "\n",
    "            \n",
    "        except Exception as e:\n",
    "            raise e\n",
    "\n",
    "    def remove_folder(self):\n",
    "        ecgen_path = os.path.join(self.config.unzip_dir_report, \"ecgen-radiology\")\n",
    "        if os.path.exists(ecgen_path):\n",
    "            for file in os.listdir(ecgen_path):\n",
    "                if file.endswith(\".xml\"):\n",
    "                    os.rename(os.path.join(ecgen_path, file), os.path.join(self.config.unzip_dir_report, file))\n",
    "            os.rmdir(ecgen_path)\n",
    "    "
   ]
  },
  {
   "cell_type": "code",
   "execution_count": null,
   "id": "68360738",
   "metadata": {},
   "outputs": [
    {
     "name": "stdout",
     "output_type": "stream",
     "text": [
      "[2025-08-10 14:38:33,237: INFO: common: yaml file: config\\config.yaml loaded successfully]\n",
      "[2025-08-10 14:38:33,239: INFO: common: yaml file: params.yaml loaded successfully]\n",
      "[2025-08-10 14:38:33,241: INFO: common: created directory at: artifacts]\n",
      "[2025-08-10 14:38:33,242: INFO: common: created directory at: artifacts/data_ingestion]\n"
     ]
    }
   ],
   "source": [
    "try:\n",
    "    config = ConfigurationManager()\n",
    "    data_ingestion_config = config.get_data_ingestion_config()\n",
    "    data_ingestion = DataIngestion(config=data_ingestion_config)\n",
    "    data_ingestion.start_download_extract()\n",
    "    data_ingestion.remove_folder()\n",
    "except Exception as e:\n",
    "    raise e"
   ]
  },
  {
   "cell_type": "code",
   "execution_count": null,
   "id": "024f8732",
   "metadata": {},
   "outputs": [],
   "source": []
  },
  {
   "cell_type": "code",
   "execution_count": null,
   "id": "b2164b9a",
   "metadata": {},
   "outputs": [],
   "source": []
  },
  {
   "cell_type": "code",
   "execution_count": 48,
   "id": "e92fb9a3",
   "metadata": {},
   "outputs": [
    {
     "name": "stdout",
     "output_type": "stream",
     "text": [
      "[INFO] Saved manifest with 7430 image-caption pairs\n"
     ]
    }
   ],
   "source": [
    "manifest_data = []\n",
    "reports = [f for f in os.listdir(reports_path) if f.endswith(\".xml\")]\n",
    "reports.sort()\n",
    "\n",
    "reports_with_no_image = []\n",
    "reports_with_empty_sections = []\n",
    "reports_with_no_impression = []\n",
    "reports_with_no_findings = []\n",
    "\n",
    "images_captions = {}\n",
    "reports_with_images = {}\n",
    "text_of_reports = {}\n",
    "\n",
    "\n",
    "\n",
    "for report in reports:\n",
    "    tree = ET.parse(os.path.join(reports_path, report))\n",
    "    root = tree.getroot()\n",
    "\n",
    "    images = root.findall(\"parentImage\")\n",
    "    if not images:\n",
    "        reports_with_no_image.append(report)\n",
    "        continue\n",
    "\n",
    "    findings = None\n",
    "    impression = None\n",
    "    sections = root.find(\"MedlineCitation\").find(\"Article\").find(\"Abstract\").findall(\"AbstractText\")\n",
    "    for section in sections:\n",
    "        label = section.get(\"Label\")\n",
    "        if label == \"FINDINGS\":\n",
    "            findings = section.text\n",
    "        elif label == \"IMPRESSION\":\n",
    "            impression = section.text\n",
    "\n",
    "    if impression is None and findings is None:\n",
    "        reports_with_empty_sections.append(report)\n",
    "        continue\n",
    "\n",
    "    if impression is None:\n",
    "        reports_with_no_impression.append(report)\n",
    "        caption = findings\n",
    "    elif findings is None:\n",
    "        reports_with_no_findings.append(report)\n",
    "        caption = impression\n",
    "    else:\n",
    "        caption = (impression or \"\") + \" \" + (findings or \"\")\n",
    "\n",
    "    img_ids = []\n",
    "    for image in images:\n",
    "        img_file = image.get(\"id\") + \".png\"\n",
    "        img_path = os.path.join(images_path, img_file)\n",
    "        if os.path.exists(img_path):\n",
    "            manifest_data.append([img_path, caption])\n",
    "\n",
    "    reports_with_images[report] = img_ids\n",
    "    text_of_reports[report] = caption\n",
    "manifest_df = pd.DataFrame(manifest_data, columns=[\"image_path\", \"caption\"])\n",
    "manifest_df.to_csv(\"iu_xray_manifest.csv\", index=False)\n",
    "print(f\"[INFO] Saved manifest with {len(manifest_df)} image-caption pairs\")\n",
    "\n",
    "\n"
   ]
  },
  {
   "cell_type": "code",
   "execution_count": 49,
   "id": "befe4c19",
   "metadata": {},
   "outputs": [
    {
     "name": "stdout",
     "output_type": "stream",
     "text": [
      "Found 104 reports with no associated image\n",
      "Found 25 reports with empty Impression and Findings sections\n",
      "Found 6 reports with no Impression section\n",
      "Found 489 reports with no Findings section\n",
      "Collected 0 image-caption pairs\n"
     ]
    }
   ],
   "source": [
    "print(f\"Found {len(reports_with_no_image)} reports with no associated image\")\n",
    "print(f\"Found {len(reports_with_empty_sections)} reports with empty Impression and Findings sections\")\n",
    "print(f\"Found {len(reports_with_no_impression)} reports with no Impression section\")\n",
    "print(f\"Found {len(reports_with_no_findings)} reports with no Findings section\")\n",
    "print(f\"Collected {len(images_captions)} image-caption pairs\")"
   ]
  },
  {
   "cell_type": "code",
   "execution_count": null,
   "id": "3efdca22",
   "metadata": {},
   "outputs": [],
   "source": []
  },
  {
   "cell_type": "code",
   "execution_count": null,
   "id": "025b75e4",
   "metadata": {},
   "outputs": [],
   "source": []
  }
 ],
 "metadata": {
  "kernelspec": {
   "display_name": "venv",
   "language": "python",
   "name": "python3"
  },
  "language_info": {
   "codemirror_mode": {
    "name": "ipython",
    "version": 3
   },
   "file_extension": ".py",
   "mimetype": "text/x-python",
   "name": "python",
   "nbconvert_exporter": "python",
   "pygments_lexer": "ipython3",
   "version": "3.8.20"
  }
 },
 "nbformat": 4,
 "nbformat_minor": 5
}
